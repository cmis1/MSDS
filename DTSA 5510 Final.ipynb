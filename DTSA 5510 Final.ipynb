{
 "cells": [
  {
   "cell_type": "markdown",
   "id": "10cdbf52-1f00-4576-ac31-551c55a24ac9",
   "metadata": {},
   "source": [
    "## TODO Goal of the Project\n",
    "The goal of this project is to create a product recommender system for Sephora based on customer ratings/reviews.  This will be an unsupervised machine learning problem to attempt to predict how customers will like a given product.  The approach will be to clean the data and perform some exploratory data analysis to get a high-level understanding of the data elements and the relationships between them. I will then create unsupervised learning models using collaborative filtering and NMF to predict ratings.  I will also create an unsupervised model using K-nearest neighbors to provide recommendations to Sephora customers about products they may enjoy based on their highest rated product. \n",
    "\n",
    "This project has been published to GitHub at ***"
   ]
  },
  {
   "cell_type": "code",
   "execution_count": 1,
   "id": "52fbde18-56a1-443f-86da-01c62fd61477",
   "metadata": {},
   "outputs": [],
   "source": [
    "import pandas as pd\n",
    "import numpy as np\n",
    "import matplotlib.pyplot as plt\n",
    "import seaborn as sns\n",
    "sns.set()\n",
    "%matplotlib inline\n",
    "\n",
    "from scipy.sparse import coo_matrix, csr_matrix\n",
    "from sklearn.decomposition import NMF\n",
    "from sklearn.model_selection import train_test_split\n",
    "from sklearn.neighbors import NearestNeighbors, KNeighborsRegressor\n",
    "\n",
    "import warnings\n",
    "warnings.filterwarnings('ignore')"
   ]
  },
  {
   "cell_type": "markdown",
   "id": "b75d7669-ad6d-4c7b-b496-f2649baedab9",
   "metadata": {},
   "source": [
    "## TODO Data Understanding"
   ]
  },
  {
   "cell_type": "markdown",
   "id": "709f4745-ec24-4d0a-81dc-60106906f01c",
   "metadata": {},
   "source": [
    "The dataset author collected review and product information for Sephora (a beauty and skin care retailer) via a Python scraper in March 2023.  "
   ]
  },
  {
   "cell_type": "markdown",
   "id": "790eedb4-8a67-4bf5-8272-570ef820a898",
   "metadata": {
    "jp-MarkdownHeadingCollapsed": true
   },
   "source": [
    "### Data Citation in APA Format"
   ]
  },
  {
   "cell_type": "markdown",
   "id": "c10295bb-9859-484d-b1f5-a95b9adb1a81",
   "metadata": {},
   "source": [
    "Inky, N. (2023). Sephora Products and Skincare Reviews. Version 1. [Data set]. Retrieved from https://www.kaggle.com/datasets/nadyinky/sephora-products-and-skincare-reviews."
   ]
  },
  {
   "cell_type": "markdown",
   "id": "b3365b39-43d2-4842-923a-f64254b13ec6",
   "metadata": {},
   "source": [
    "### Data Description"
   ]
  },
  {
   "cell_type": "markdown",
   "id": "9ac12ce3-99b6-40e5-9b1b-e3666246787d",
   "metadata": {},
   "source": [
    "#### Users"
   ]
  },
  {
   "cell_type": "markdown",
   "id": "5785416a-5508-489b-8d3b-d7a5a7ea9787",
   "metadata": {},
   "source": [
    "The user dataset contains 1,094,411 rows and 18 columns, which I will narrow down to the following columns of interest for this project:\n",
    "\n",
    "| Column | Data Type | Description |\n",
    "| --- | --- | --- |\n",
    "| author_id | string | Unique identifier for the user |\n",
    "| rating | int | 1-5 rating for the product\n",
    "| skin_tone | string | User's skin tone (e.g. fair, tan, etc.) |\n",
    "| eye_color | string | User's eye color (e.g. brown, green, etc.) |\n",
    "| skin_type | string | User's skin type (e.g. combination, oily, etc.) |\n",
    "| hair_color | string | User's hair color (e.g. brown, auburn, etc.) |\n",
    "| product_id | string | Unique alphanumeric identifier for the product |"
   ]
  },
  {
   "cell_type": "markdown",
   "id": "2c185aab-5a3c-4d93-901e-54bee59f057c",
   "metadata": {},
   "source": [
    "#### Products"
   ]
  },
  {
   "cell_type": "markdown",
   "id": "6dd95f7f-9ece-4133-948d-e598c6486ed8",
   "metadata": {},
   "source": [
    "The product dataset contains 8494 rows and 27 columns, which I will narrow down to the following columns of interest for this project:\n",
    "\n",
    "| Column | Data Type | Description |\n",
    "| --- | --- | --- |\n",
    "| product_id | string | Unique alphanumeric identifier for the product |\n",
    "| product_name | string | Full name of the product |\n",
    "| brand_name | string | Full name of the brand |\n",
    "| price_usd | float | Price of the product in U.S. dollars |\n",
    "| limited_edition | int | Indicates whether the product is a limited edition (1-yes, 0-no) |\n",
    "| online_only | int | Indicates whether the product only available online (1-yes, 0-no) |\n",
    "| sephora_exclusive | int | Indicates whether the product is exclusive to Sephora (1-yes, 0-no) |\n",
    "| primary_category | string | First level of product categorization |"
   ]
  },
  {
   "cell_type": "markdown",
   "id": "8da263b6-f798-4e37-a240-cb24509d12e8",
   "metadata": {},
   "source": [
    "### Load the Data"
   ]
  },
  {
   "cell_type": "markdown",
   "id": "daca2041-5f76-415e-866e-1d8f4d9df992",
   "metadata": {},
   "source": [
    "#### Users and Ratings"
   ]
  },
  {
   "cell_type": "markdown",
   "id": "94cf75a5-c373-47c5-9805-e4923e3a3f7d",
   "metadata": {},
   "source": [
    "I load the reviews data from the muliple CSV files provided by the dataset author and combine them together into a single dataframe.  I then separate that dataframe into two dataframes, one for the user's attributes noted above (e.g., eye color) and another for the ratings (i.e., author ID, product ID, and rating)."
   ]
  },
  {
   "cell_type": "code",
   "execution_count": 2,
   "id": "01fabb63-9f10-4890-aff2-ed5e69c6e78d",
   "metadata": {},
   "outputs": [
    {
     "data": {
      "text/html": [
       "<div>\n",
       "<style scoped>\n",
       "    .dataframe tbody tr th:only-of-type {\n",
       "        vertical-align: middle;\n",
       "    }\n",
       "\n",
       "    .dataframe tbody tr th {\n",
       "        vertical-align: top;\n",
       "    }\n",
       "\n",
       "    .dataframe thead th {\n",
       "        text-align: right;\n",
       "    }\n",
       "</style>\n",
       "<table border=\"1\" class=\"dataframe\">\n",
       "  <thead>\n",
       "    <tr style=\"text-align: right;\">\n",
       "      <th></th>\n",
       "      <th>author_id</th>\n",
       "      <th>rating</th>\n",
       "      <th>is_recommended</th>\n",
       "      <th>helpfulness</th>\n",
       "      <th>total_feedback_count</th>\n",
       "      <th>total_neg_feedback_count</th>\n",
       "      <th>total_pos_feedback_count</th>\n",
       "      <th>submission_time</th>\n",
       "      <th>review_text</th>\n",
       "      <th>review_title</th>\n",
       "      <th>skin_tone</th>\n",
       "      <th>eye_color</th>\n",
       "      <th>skin_type</th>\n",
       "      <th>hair_color</th>\n",
       "      <th>product_id</th>\n",
       "      <th>product_name</th>\n",
       "      <th>brand_name</th>\n",
       "      <th>price_usd</th>\n",
       "    </tr>\n",
       "  </thead>\n",
       "  <tbody>\n",
       "    <tr>\n",
       "      <th>0</th>\n",
       "      <td>1741593524</td>\n",
       "      <td>5</td>\n",
       "      <td>1.0</td>\n",
       "      <td>1.0</td>\n",
       "      <td>2</td>\n",
       "      <td>0</td>\n",
       "      <td>2</td>\n",
       "      <td>2023-02-01</td>\n",
       "      <td>I use this with the Nudestix “Citrus Clean Bal...</td>\n",
       "      <td>Taught me how to double cleanse!</td>\n",
       "      <td>NaN</td>\n",
       "      <td>brown</td>\n",
       "      <td>dry</td>\n",
       "      <td>black</td>\n",
       "      <td>P504322</td>\n",
       "      <td>Gentle Hydra-Gel Face Cleanser</td>\n",
       "      <td>NUDESTIX</td>\n",
       "      <td>19.0</td>\n",
       "    </tr>\n",
       "    <tr>\n",
       "      <th>1</th>\n",
       "      <td>31423088263</td>\n",
       "      <td>1</td>\n",
       "      <td>0.0</td>\n",
       "      <td>NaN</td>\n",
       "      <td>0</td>\n",
       "      <td>0</td>\n",
       "      <td>0</td>\n",
       "      <td>2023-03-21</td>\n",
       "      <td>I bought this lip mask after reading the revie...</td>\n",
       "      <td>Disappointed</td>\n",
       "      <td>NaN</td>\n",
       "      <td>NaN</td>\n",
       "      <td>NaN</td>\n",
       "      <td>NaN</td>\n",
       "      <td>P420652</td>\n",
       "      <td>Lip Sleeping Mask Intense Hydration with Vitam...</td>\n",
       "      <td>LANEIGE</td>\n",
       "      <td>24.0</td>\n",
       "    </tr>\n",
       "    <tr>\n",
       "      <th>2</th>\n",
       "      <td>5061282401</td>\n",
       "      <td>5</td>\n",
       "      <td>1.0</td>\n",
       "      <td>NaN</td>\n",
       "      <td>0</td>\n",
       "      <td>0</td>\n",
       "      <td>0</td>\n",
       "      <td>2023-03-21</td>\n",
       "      <td>My review title says it all! I get so excited ...</td>\n",
       "      <td>New Favorite Routine</td>\n",
       "      <td>light</td>\n",
       "      <td>brown</td>\n",
       "      <td>dry</td>\n",
       "      <td>blonde</td>\n",
       "      <td>P420652</td>\n",
       "      <td>Lip Sleeping Mask Intense Hydration with Vitam...</td>\n",
       "      <td>LANEIGE</td>\n",
       "      <td>24.0</td>\n",
       "    </tr>\n",
       "    <tr>\n",
       "      <th>3</th>\n",
       "      <td>6083038851</td>\n",
       "      <td>5</td>\n",
       "      <td>1.0</td>\n",
       "      <td>NaN</td>\n",
       "      <td>0</td>\n",
       "      <td>0</td>\n",
       "      <td>0</td>\n",
       "      <td>2023-03-20</td>\n",
       "      <td>I’ve always loved this formula for a long time...</td>\n",
       "      <td>Can't go wrong with any of them</td>\n",
       "      <td>NaN</td>\n",
       "      <td>brown</td>\n",
       "      <td>combination</td>\n",
       "      <td>black</td>\n",
       "      <td>P420652</td>\n",
       "      <td>Lip Sleeping Mask Intense Hydration with Vitam...</td>\n",
       "      <td>LANEIGE</td>\n",
       "      <td>24.0</td>\n",
       "    </tr>\n",
       "    <tr>\n",
       "      <th>4</th>\n",
       "      <td>47056667835</td>\n",
       "      <td>5</td>\n",
       "      <td>1.0</td>\n",
       "      <td>NaN</td>\n",
       "      <td>0</td>\n",
       "      <td>0</td>\n",
       "      <td>0</td>\n",
       "      <td>2023-03-20</td>\n",
       "      <td>If you have dry cracked lips, this is a must h...</td>\n",
       "      <td>A must have !!!</td>\n",
       "      <td>light</td>\n",
       "      <td>hazel</td>\n",
       "      <td>combination</td>\n",
       "      <td>NaN</td>\n",
       "      <td>P420652</td>\n",
       "      <td>Lip Sleeping Mask Intense Hydration with Vitam...</td>\n",
       "      <td>LANEIGE</td>\n",
       "      <td>24.0</td>\n",
       "    </tr>\n",
       "  </tbody>\n",
       "</table>\n",
       "</div>"
      ],
      "text/plain": [
       "     author_id  rating  is_recommended  helpfulness  total_feedback_count  \\\n",
       "0   1741593524       5             1.0          1.0                     2   \n",
       "1  31423088263       1             0.0          NaN                     0   \n",
       "2   5061282401       5             1.0          NaN                     0   \n",
       "3   6083038851       5             1.0          NaN                     0   \n",
       "4  47056667835       5             1.0          NaN                     0   \n",
       "\n",
       "   total_neg_feedback_count  total_pos_feedback_count submission_time  \\\n",
       "0                         0                         2      2023-02-01   \n",
       "1                         0                         0      2023-03-21   \n",
       "2                         0                         0      2023-03-21   \n",
       "3                         0                         0      2023-03-20   \n",
       "4                         0                         0      2023-03-20   \n",
       "\n",
       "                                         review_text  \\\n",
       "0  I use this with the Nudestix “Citrus Clean Bal...   \n",
       "1  I bought this lip mask after reading the revie...   \n",
       "2  My review title says it all! I get so excited ...   \n",
       "3  I’ve always loved this formula for a long time...   \n",
       "4  If you have dry cracked lips, this is a must h...   \n",
       "\n",
       "                       review_title skin_tone eye_color    skin_type  \\\n",
       "0  Taught me how to double cleanse!       NaN     brown          dry   \n",
       "1                      Disappointed       NaN       NaN          NaN   \n",
       "2              New Favorite Routine     light     brown          dry   \n",
       "3   Can't go wrong with any of them       NaN     brown  combination   \n",
       "4                   A must have !!!     light     hazel  combination   \n",
       "\n",
       "  hair_color product_id                                       product_name  \\\n",
       "0      black    P504322                     Gentle Hydra-Gel Face Cleanser   \n",
       "1        NaN    P420652  Lip Sleeping Mask Intense Hydration with Vitam...   \n",
       "2     blonde    P420652  Lip Sleeping Mask Intense Hydration with Vitam...   \n",
       "3      black    P420652  Lip Sleeping Mask Intense Hydration with Vitam...   \n",
       "4        NaN    P420652  Lip Sleeping Mask Intense Hydration with Vitam...   \n",
       "\n",
       "  brand_name  price_usd  \n",
       "0   NUDESTIX       19.0  \n",
       "1    LANEIGE       24.0  \n",
       "2    LANEIGE       24.0  \n",
       "3    LANEIGE       24.0  \n",
       "4    LANEIGE       24.0  "
      ]
     },
     "execution_count": 2,
     "metadata": {},
     "output_type": "execute_result"
    }
   ],
   "source": [
    "df1 = pd.read_csv('reviews_0-250.csv', index_col=0)\n",
    "df2 = pd.read_csv('reviews_250-500.csv', index_col=0)\n",
    "df3 = pd.read_csv('reviews_500-750.csv', index_col=0)\n",
    "df4 = pd.read_csv('reviews_750-1250.csv', index_col=0)\n",
    "df5 = pd.read_csv('reviews_1250-end.csv', index_col=0)\n",
    "\n",
    "df_users = pd.concat([df1, df2, df3, df4, df5])\n",
    "df_users.head()"
   ]
  },
  {
   "cell_type": "code",
   "execution_count": 3,
   "id": "23965626-8cda-4ec7-afd9-0045f89f0976",
   "metadata": {},
   "outputs": [
    {
     "name": "stdout",
     "output_type": "stream",
     "text": [
      "<class 'pandas.core.frame.DataFrame'>\n",
      "Index: 1094411 entries, 0 to 49976\n",
      "Data columns (total 18 columns):\n",
      " #   Column                    Non-Null Count    Dtype  \n",
      "---  ------                    --------------    -----  \n",
      " 0   author_id                 1094411 non-null  object \n",
      " 1   rating                    1094411 non-null  int64  \n",
      " 2   is_recommended            926423 non-null   float64\n",
      " 3   helpfulness               532819 non-null   float64\n",
      " 4   total_feedback_count      1094411 non-null  int64  \n",
      " 5   total_neg_feedback_count  1094411 non-null  int64  \n",
      " 6   total_pos_feedback_count  1094411 non-null  int64  \n",
      " 7   submission_time           1094411 non-null  object \n",
      " 8   review_text               1092967 non-null  object \n",
      " 9   review_title              783757 non-null   object \n",
      " 10  skin_tone                 923872 non-null   object \n",
      " 11  eye_color                 884783 non-null   object \n",
      " 12  skin_type                 982854 non-null   object \n",
      " 13  hair_color                867643 non-null   object \n",
      " 14  product_id                1094411 non-null  object \n",
      " 15  product_name              1094411 non-null  object \n",
      " 16  brand_name                1094411 non-null  object \n",
      " 17  price_usd                 1094411 non-null  float64\n",
      "dtypes: float64(3), int64(4), object(11)\n",
      "memory usage: 158.6+ MB\n"
     ]
    }
   ],
   "source": [
    "df_users.info()"
   ]
  },
  {
   "cell_type": "code",
   "execution_count": 4,
   "id": "d70dfb71-2dda-468a-b283-3b1f1c26733d",
   "metadata": {},
   "outputs": [
    {
     "name": "stdout",
     "output_type": "stream",
     "text": [
      "<class 'pandas.core.frame.DataFrame'>\n",
      "Index: 1094411 entries, 0 to 49976\n",
      "Data columns (total 5 columns):\n",
      " #   Column      Non-Null Count    Dtype \n",
      "---  ------      --------------    ----- \n",
      " 0   author_id   1094411 non-null  object\n",
      " 1   skin_tone   923872 non-null   object\n",
      " 2   eye_color   884783 non-null   object\n",
      " 3   skin_type   982854 non-null   object\n",
      " 4   hair_color  867643 non-null   object\n",
      "dtypes: object(5)\n",
      "memory usage: 50.1+ MB\n"
     ]
    }
   ],
   "source": [
    "df_ratings = df_users[['author_id', 'product_id', 'rating']]\n",
    "df_users = df_users[['author_id', 'skin_tone', 'eye_color', 'skin_type', 'hair_color']]\n",
    "df_users.info()"
   ]
  },
  {
   "cell_type": "code",
   "execution_count": 5,
   "id": "158dd57c-e213-4c2c-bb9e-c5fd120f6af3",
   "metadata": {},
   "outputs": [
    {
     "data": {
      "text/html": [
       "<div>\n",
       "<style scoped>\n",
       "    .dataframe tbody tr th:only-of-type {\n",
       "        vertical-align: middle;\n",
       "    }\n",
       "\n",
       "    .dataframe tbody tr th {\n",
       "        vertical-align: top;\n",
       "    }\n",
       "\n",
       "    .dataframe thead th {\n",
       "        text-align: right;\n",
       "    }\n",
       "</style>\n",
       "<table border=\"1\" class=\"dataframe\">\n",
       "  <thead>\n",
       "    <tr style=\"text-align: right;\">\n",
       "      <th></th>\n",
       "      <th>author_id</th>\n",
       "      <th>skin_tone</th>\n",
       "      <th>eye_color</th>\n",
       "      <th>skin_type</th>\n",
       "      <th>hair_color</th>\n",
       "    </tr>\n",
       "  </thead>\n",
       "  <tbody>\n",
       "    <tr>\n",
       "      <th>0</th>\n",
       "      <td>1741593524</td>\n",
       "      <td>NaN</td>\n",
       "      <td>brown</td>\n",
       "      <td>dry</td>\n",
       "      <td>black</td>\n",
       "    </tr>\n",
       "    <tr>\n",
       "      <th>1</th>\n",
       "      <td>31423088263</td>\n",
       "      <td>NaN</td>\n",
       "      <td>NaN</td>\n",
       "      <td>NaN</td>\n",
       "      <td>NaN</td>\n",
       "    </tr>\n",
       "    <tr>\n",
       "      <th>2</th>\n",
       "      <td>5061282401</td>\n",
       "      <td>light</td>\n",
       "      <td>brown</td>\n",
       "      <td>dry</td>\n",
       "      <td>blonde</td>\n",
       "    </tr>\n",
       "    <tr>\n",
       "      <th>3</th>\n",
       "      <td>6083038851</td>\n",
       "      <td>NaN</td>\n",
       "      <td>brown</td>\n",
       "      <td>combination</td>\n",
       "      <td>black</td>\n",
       "    </tr>\n",
       "    <tr>\n",
       "      <th>4</th>\n",
       "      <td>47056667835</td>\n",
       "      <td>light</td>\n",
       "      <td>hazel</td>\n",
       "      <td>combination</td>\n",
       "      <td>NaN</td>\n",
       "    </tr>\n",
       "  </tbody>\n",
       "</table>\n",
       "</div>"
      ],
      "text/plain": [
       "     author_id skin_tone eye_color    skin_type hair_color\n",
       "0   1741593524       NaN     brown          dry      black\n",
       "1  31423088263       NaN       NaN          NaN        NaN\n",
       "2   5061282401     light     brown          dry     blonde\n",
       "3   6083038851       NaN     brown  combination      black\n",
       "4  47056667835     light     hazel  combination        NaN"
      ]
     },
     "execution_count": 5,
     "metadata": {},
     "output_type": "execute_result"
    }
   ],
   "source": [
    "df_users.head()"
   ]
  },
  {
   "cell_type": "code",
   "execution_count": 6,
   "id": "44fad1d9-6ecd-4ce8-9400-8afd1782aa5d",
   "metadata": {},
   "outputs": [
    {
     "data": {
      "text/html": [
       "<div>\n",
       "<style scoped>\n",
       "    .dataframe tbody tr th:only-of-type {\n",
       "        vertical-align: middle;\n",
       "    }\n",
       "\n",
       "    .dataframe tbody tr th {\n",
       "        vertical-align: top;\n",
       "    }\n",
       "\n",
       "    .dataframe thead th {\n",
       "        text-align: right;\n",
       "    }\n",
       "</style>\n",
       "<table border=\"1\" class=\"dataframe\">\n",
       "  <thead>\n",
       "    <tr style=\"text-align: right;\">\n",
       "      <th></th>\n",
       "      <th>author_id</th>\n",
       "      <th>product_id</th>\n",
       "      <th>rating</th>\n",
       "    </tr>\n",
       "  </thead>\n",
       "  <tbody>\n",
       "    <tr>\n",
       "      <th>0</th>\n",
       "      <td>1741593524</td>\n",
       "      <td>P504322</td>\n",
       "      <td>5</td>\n",
       "    </tr>\n",
       "    <tr>\n",
       "      <th>1</th>\n",
       "      <td>31423088263</td>\n",
       "      <td>P420652</td>\n",
       "      <td>1</td>\n",
       "    </tr>\n",
       "    <tr>\n",
       "      <th>2</th>\n",
       "      <td>5061282401</td>\n",
       "      <td>P420652</td>\n",
       "      <td>5</td>\n",
       "    </tr>\n",
       "    <tr>\n",
       "      <th>3</th>\n",
       "      <td>6083038851</td>\n",
       "      <td>P420652</td>\n",
       "      <td>5</td>\n",
       "    </tr>\n",
       "    <tr>\n",
       "      <th>4</th>\n",
       "      <td>47056667835</td>\n",
       "      <td>P420652</td>\n",
       "      <td>5</td>\n",
       "    </tr>\n",
       "  </tbody>\n",
       "</table>\n",
       "</div>"
      ],
      "text/plain": [
       "     author_id product_id  rating\n",
       "0   1741593524    P504322       5\n",
       "1  31423088263    P420652       1\n",
       "2   5061282401    P420652       5\n",
       "3   6083038851    P420652       5\n",
       "4  47056667835    P420652       5"
      ]
     },
     "execution_count": 6,
     "metadata": {},
     "output_type": "execute_result"
    }
   ],
   "source": [
    "df_ratings.head()"
   ]
  },
  {
   "cell_type": "markdown",
   "id": "7cb206cc-4fc7-4fda-a613-f3d2c62fb484",
   "metadata": {},
   "source": [
    "#### Products\n",
    "I now load the product dataset and filter to the columns of interest listed above."
   ]
  },
  {
   "cell_type": "code",
   "execution_count": 7,
   "id": "f039a685-f23e-4b41-8838-ec3f9088797b",
   "metadata": {
    "scrolled": true
   },
   "outputs": [
    {
     "data": {
      "text/html": [
       "<div>\n",
       "<style scoped>\n",
       "    .dataframe tbody tr th:only-of-type {\n",
       "        vertical-align: middle;\n",
       "    }\n",
       "\n",
       "    .dataframe tbody tr th {\n",
       "        vertical-align: top;\n",
       "    }\n",
       "\n",
       "    .dataframe thead th {\n",
       "        text-align: right;\n",
       "    }\n",
       "</style>\n",
       "<table border=\"1\" class=\"dataframe\">\n",
       "  <thead>\n",
       "    <tr style=\"text-align: right;\">\n",
       "      <th></th>\n",
       "      <th>product_id</th>\n",
       "      <th>product_name</th>\n",
       "      <th>brand_id</th>\n",
       "      <th>brand_name</th>\n",
       "      <th>loves_count</th>\n",
       "      <th>rating</th>\n",
       "      <th>reviews</th>\n",
       "      <th>size</th>\n",
       "      <th>variation_type</th>\n",
       "      <th>variation_value</th>\n",
       "      <th>...</th>\n",
       "      <th>online_only</th>\n",
       "      <th>out_of_stock</th>\n",
       "      <th>sephora_exclusive</th>\n",
       "      <th>highlights</th>\n",
       "      <th>primary_category</th>\n",
       "      <th>secondary_category</th>\n",
       "      <th>tertiary_category</th>\n",
       "      <th>child_count</th>\n",
       "      <th>child_max_price</th>\n",
       "      <th>child_min_price</th>\n",
       "    </tr>\n",
       "  </thead>\n",
       "  <tbody>\n",
       "    <tr>\n",
       "      <th>0</th>\n",
       "      <td>P473671</td>\n",
       "      <td>Fragrance Discovery Set</td>\n",
       "      <td>6342</td>\n",
       "      <td>19-69</td>\n",
       "      <td>6320</td>\n",
       "      <td>3.6364</td>\n",
       "      <td>11.0</td>\n",
       "      <td>NaN</td>\n",
       "      <td>NaN</td>\n",
       "      <td>NaN</td>\n",
       "      <td>...</td>\n",
       "      <td>1</td>\n",
       "      <td>0</td>\n",
       "      <td>0</td>\n",
       "      <td>['Unisex/ Genderless Scent', 'Warm &amp;Spicy Scen...</td>\n",
       "      <td>Fragrance</td>\n",
       "      <td>Value &amp; Gift Sets</td>\n",
       "      <td>Perfume Gift Sets</td>\n",
       "      <td>0</td>\n",
       "      <td>NaN</td>\n",
       "      <td>NaN</td>\n",
       "    </tr>\n",
       "    <tr>\n",
       "      <th>1</th>\n",
       "      <td>P473668</td>\n",
       "      <td>La Habana Eau de Parfum</td>\n",
       "      <td>6342</td>\n",
       "      <td>19-69</td>\n",
       "      <td>3827</td>\n",
       "      <td>4.1538</td>\n",
       "      <td>13.0</td>\n",
       "      <td>3.4 oz/ 100 mL</td>\n",
       "      <td>Size + Concentration + Formulation</td>\n",
       "      <td>3.4 oz/ 100 mL</td>\n",
       "      <td>...</td>\n",
       "      <td>1</td>\n",
       "      <td>0</td>\n",
       "      <td>0</td>\n",
       "      <td>['Unisex/ Genderless Scent', 'Layerable Scent'...</td>\n",
       "      <td>Fragrance</td>\n",
       "      <td>Women</td>\n",
       "      <td>Perfume</td>\n",
       "      <td>2</td>\n",
       "      <td>85.0</td>\n",
       "      <td>30.0</td>\n",
       "    </tr>\n",
       "    <tr>\n",
       "      <th>2</th>\n",
       "      <td>P473662</td>\n",
       "      <td>Rainbow Bar Eau de Parfum</td>\n",
       "      <td>6342</td>\n",
       "      <td>19-69</td>\n",
       "      <td>3253</td>\n",
       "      <td>4.2500</td>\n",
       "      <td>16.0</td>\n",
       "      <td>3.4 oz/ 100 mL</td>\n",
       "      <td>Size + Concentration + Formulation</td>\n",
       "      <td>3.4 oz/ 100 mL</td>\n",
       "      <td>...</td>\n",
       "      <td>1</td>\n",
       "      <td>0</td>\n",
       "      <td>0</td>\n",
       "      <td>['Unisex/ Genderless Scent', 'Layerable Scent'...</td>\n",
       "      <td>Fragrance</td>\n",
       "      <td>Women</td>\n",
       "      <td>Perfume</td>\n",
       "      <td>2</td>\n",
       "      <td>75.0</td>\n",
       "      <td>30.0</td>\n",
       "    </tr>\n",
       "    <tr>\n",
       "      <th>3</th>\n",
       "      <td>P473660</td>\n",
       "      <td>Kasbah Eau de Parfum</td>\n",
       "      <td>6342</td>\n",
       "      <td>19-69</td>\n",
       "      <td>3018</td>\n",
       "      <td>4.4762</td>\n",
       "      <td>21.0</td>\n",
       "      <td>3.4 oz/ 100 mL</td>\n",
       "      <td>Size + Concentration + Formulation</td>\n",
       "      <td>3.4 oz/ 100 mL</td>\n",
       "      <td>...</td>\n",
       "      <td>1</td>\n",
       "      <td>0</td>\n",
       "      <td>0</td>\n",
       "      <td>['Unisex/ Genderless Scent', 'Layerable Scent'...</td>\n",
       "      <td>Fragrance</td>\n",
       "      <td>Women</td>\n",
       "      <td>Perfume</td>\n",
       "      <td>2</td>\n",
       "      <td>75.0</td>\n",
       "      <td>30.0</td>\n",
       "    </tr>\n",
       "    <tr>\n",
       "      <th>4</th>\n",
       "      <td>P473658</td>\n",
       "      <td>Purple Haze Eau de Parfum</td>\n",
       "      <td>6342</td>\n",
       "      <td>19-69</td>\n",
       "      <td>2691</td>\n",
       "      <td>3.2308</td>\n",
       "      <td>13.0</td>\n",
       "      <td>3.4 oz/ 100 mL</td>\n",
       "      <td>Size + Concentration + Formulation</td>\n",
       "      <td>3.4 oz/ 100 mL</td>\n",
       "      <td>...</td>\n",
       "      <td>1</td>\n",
       "      <td>0</td>\n",
       "      <td>0</td>\n",
       "      <td>['Unisex/ Genderless Scent', 'Layerable Scent'...</td>\n",
       "      <td>Fragrance</td>\n",
       "      <td>Women</td>\n",
       "      <td>Perfume</td>\n",
       "      <td>2</td>\n",
       "      <td>75.0</td>\n",
       "      <td>30.0</td>\n",
       "    </tr>\n",
       "  </tbody>\n",
       "</table>\n",
       "<p>5 rows × 27 columns</p>\n",
       "</div>"
      ],
      "text/plain": [
       "  product_id               product_name  brand_id brand_name  loves_count  \\\n",
       "0    P473671    Fragrance Discovery Set      6342      19-69         6320   \n",
       "1    P473668    La Habana Eau de Parfum      6342      19-69         3827   \n",
       "2    P473662  Rainbow Bar Eau de Parfum      6342      19-69         3253   \n",
       "3    P473660       Kasbah Eau de Parfum      6342      19-69         3018   \n",
       "4    P473658  Purple Haze Eau de Parfum      6342      19-69         2691   \n",
       "\n",
       "   rating  reviews            size                      variation_type  \\\n",
       "0  3.6364     11.0             NaN                                 NaN   \n",
       "1  4.1538     13.0  3.4 oz/ 100 mL  Size + Concentration + Formulation   \n",
       "2  4.2500     16.0  3.4 oz/ 100 mL  Size + Concentration + Formulation   \n",
       "3  4.4762     21.0  3.4 oz/ 100 mL  Size + Concentration + Formulation   \n",
       "4  3.2308     13.0  3.4 oz/ 100 mL  Size + Concentration + Formulation   \n",
       "\n",
       "  variation_value  ... online_only out_of_stock  sephora_exclusive  \\\n",
       "0             NaN  ...           1            0                  0   \n",
       "1  3.4 oz/ 100 mL  ...           1            0                  0   \n",
       "2  3.4 oz/ 100 mL  ...           1            0                  0   \n",
       "3  3.4 oz/ 100 mL  ...           1            0                  0   \n",
       "4  3.4 oz/ 100 mL  ...           1            0                  0   \n",
       "\n",
       "                                          highlights  primary_category  \\\n",
       "0  ['Unisex/ Genderless Scent', 'Warm &Spicy Scen...         Fragrance   \n",
       "1  ['Unisex/ Genderless Scent', 'Layerable Scent'...         Fragrance   \n",
       "2  ['Unisex/ Genderless Scent', 'Layerable Scent'...         Fragrance   \n",
       "3  ['Unisex/ Genderless Scent', 'Layerable Scent'...         Fragrance   \n",
       "4  ['Unisex/ Genderless Scent', 'Layerable Scent'...         Fragrance   \n",
       "\n",
       "   secondary_category  tertiary_category  child_count  child_max_price  \\\n",
       "0   Value & Gift Sets  Perfume Gift Sets            0              NaN   \n",
       "1               Women            Perfume            2             85.0   \n",
       "2               Women            Perfume            2             75.0   \n",
       "3               Women            Perfume            2             75.0   \n",
       "4               Women            Perfume            2             75.0   \n",
       "\n",
       "   child_min_price  \n",
       "0              NaN  \n",
       "1             30.0  \n",
       "2             30.0  \n",
       "3             30.0  \n",
       "4             30.0  \n",
       "\n",
       "[5 rows x 27 columns]"
      ]
     },
     "execution_count": 7,
     "metadata": {},
     "output_type": "execute_result"
    }
   ],
   "source": [
    "df_products = pd.read_csv('product_info.csv')\n",
    "df_products.head()"
   ]
  },
  {
   "cell_type": "code",
   "execution_count": 8,
   "id": "100d1783-6d68-4ab1-923e-0b9cc4208010",
   "metadata": {},
   "outputs": [
    {
     "name": "stdout",
     "output_type": "stream",
     "text": [
      "<class 'pandas.core.frame.DataFrame'>\n",
      "RangeIndex: 8494 entries, 0 to 8493\n",
      "Data columns (total 27 columns):\n",
      " #   Column              Non-Null Count  Dtype  \n",
      "---  ------              --------------  -----  \n",
      " 0   product_id          8494 non-null   object \n",
      " 1   product_name        8494 non-null   object \n",
      " 2   brand_id            8494 non-null   int64  \n",
      " 3   brand_name          8494 non-null   object \n",
      " 4   loves_count         8494 non-null   int64  \n",
      " 5   rating              8216 non-null   float64\n",
      " 6   reviews             8216 non-null   float64\n",
      " 7   size                6863 non-null   object \n",
      " 8   variation_type      7050 non-null   object \n",
      " 9   variation_value     6896 non-null   object \n",
      " 10  variation_desc      1250 non-null   object \n",
      " 11  ingredients         7549 non-null   object \n",
      " 12  price_usd           8494 non-null   float64\n",
      " 13  value_price_usd     451 non-null    float64\n",
      " 14  sale_price_usd      270 non-null    float64\n",
      " 15  limited_edition     8494 non-null   int64  \n",
      " 16  new                 8494 non-null   int64  \n",
      " 17  online_only         8494 non-null   int64  \n",
      " 18  out_of_stock        8494 non-null   int64  \n",
      " 19  sephora_exclusive   8494 non-null   int64  \n",
      " 20  highlights          6287 non-null   object \n",
      " 21  primary_category    8494 non-null   object \n",
      " 22  secondary_category  8486 non-null   object \n",
      " 23  tertiary_category   7504 non-null   object \n",
      " 24  child_count         8494 non-null   int64  \n",
      " 25  child_max_price     2754 non-null   float64\n",
      " 26  child_min_price     2754 non-null   float64\n",
      "dtypes: float64(7), int64(8), object(12)\n",
      "memory usage: 1.7+ MB\n"
     ]
    }
   ],
   "source": [
    "df_products.info()"
   ]
  },
  {
   "cell_type": "code",
   "execution_count": 9,
   "id": "bc08b889-b790-4e42-bdcb-194033c2799d",
   "metadata": {},
   "outputs": [],
   "source": [
    "df_products = df_products[['product_id', 'product_name', \n",
    "                           'brand_name',  'price_usd', \n",
    "                           'limited_edition', 'online_only', \n",
    "                           'sephora_exclusive', 'primary_category']]"
   ]
  },
  {
   "cell_type": "code",
   "execution_count": 10,
   "id": "248372e2-9e88-4be5-86f6-adf189329fcb",
   "metadata": {},
   "outputs": [
    {
     "name": "stdout",
     "output_type": "stream",
     "text": [
      "<class 'pandas.core.frame.DataFrame'>\n",
      "RangeIndex: 8494 entries, 0 to 8493\n",
      "Data columns (total 8 columns):\n",
      " #   Column             Non-Null Count  Dtype  \n",
      "---  ------             --------------  -----  \n",
      " 0   product_id         8494 non-null   object \n",
      " 1   product_name       8494 non-null   object \n",
      " 2   brand_name         8494 non-null   object \n",
      " 3   price_usd          8494 non-null   float64\n",
      " 4   limited_edition    8494 non-null   int64  \n",
      " 5   online_only        8494 non-null   int64  \n",
      " 6   sephora_exclusive  8494 non-null   int64  \n",
      " 7   primary_category   8494 non-null   object \n",
      "dtypes: float64(1), int64(3), object(4)\n",
      "memory usage: 531.0+ KB\n"
     ]
    }
   ],
   "source": [
    "df_products.info()"
   ]
  },
  {
   "cell_type": "markdown",
   "id": "715daa5b-aeb1-4aa3-bdf7-85f67cf39159",
   "metadata": {},
   "source": [
    "## TODO Data cleaning"
   ]
  },
  {
   "cell_type": "markdown",
   "id": "d82ce007-9273-4589-bb3f-950f9839eb7d",
   "metadata": {},
   "source": [
    "### Data Types\n",
    "The author id had some dummy values that were not numeric.  Casting the column to a number replaces the invalid values with NaNs."
   ]
  },
  {
   "cell_type": "code",
   "execution_count": 11,
   "id": "fe19903c-1f23-4299-a75e-c53fb687ef25",
   "metadata": {},
   "outputs": [],
   "source": [
    "df_ratings['author_id'] = pd.to_numeric(df_ratings['author_id'], errors='coerce')\n",
    "df_users['author_id'] = pd.to_numeric(df_users['author_id'], errors='coerce')"
   ]
  },
  {
   "cell_type": "markdown",
   "id": "5df5d68f-ac84-4c9c-8577-0cdaa72ae681",
   "metadata": {},
   "source": [
    "### Handle missing values"
   ]
  },
  {
   "cell_type": "markdown",
   "id": "9c912b8c-3d3b-4b51-bf5d-8d6b98af5894",
   "metadata": {},
   "source": [
    "#### Ratings"
   ]
  },
  {
   "cell_type": "markdown",
   "id": "f4515339-f41a-4418-aca6-ff6d74ed9598",
   "metadata": {},
   "source": [
    "I removed the 60 rows with missing IDs (i.e., the author_ids that had invalid values when converting the column to an integer)."
   ]
  },
  {
   "cell_type": "code",
   "execution_count": 12,
   "id": "d2031733-3e37-4a70-856a-c9276e22c098",
   "metadata": {},
   "outputs": [
    {
     "name": "stdout",
     "output_type": "stream",
     "text": [
      "author_id     64\n",
      "product_id     0\n",
      "rating         0\n",
      "dtype: int64\n",
      "0.01% of rows have missing value\n",
      "(1094411, 3)\n"
     ]
    }
   ],
   "source": [
    "print(df_ratings.isna().sum())\n",
    "max_na = max(df_ratings.isna().sum())\n",
    "print(f\"{max_na*100/len(df_ratings):.2f}% of rows have missing value\")\n",
    "print(df_ratings.shape)"
   ]
  },
  {
   "cell_type": "code",
   "execution_count": 13,
   "id": "4c06ec21-263b-43d0-92c5-18234f557e0d",
   "metadata": {},
   "outputs": [
    {
     "name": "stdout",
     "output_type": "stream",
     "text": [
      "author_id     0\n",
      "product_id    0\n",
      "rating        0\n",
      "dtype: int64\n",
      "(1094347, 3)\n"
     ]
    }
   ],
   "source": [
    "df_ratings = df_ratings.dropna()\n",
    "print(df_ratings.isna().sum())\n",
    "print(df_ratings.shape)"
   ]
  },
  {
   "cell_type": "markdown",
   "id": "680ffcf3-3af2-411b-b1f4-a72939a5b7b4",
   "metadata": {},
   "source": [
    "#### Users"
   ]
  },
  {
   "cell_type": "markdown",
   "id": "39a61761-040e-42e6-80ad-d95ceb6973c4",
   "metadata": {},
   "source": [
    "The user information has missing values in at least 20% of the rows.  However, each user can submit multiple reviews which may allow me to copy any missing values from another review submitted by that same user."
   ]
  },
  {
   "cell_type": "code",
   "execution_count": 14,
   "id": "9f99d46a-c672-4b02-870d-bfd1b118b05d",
   "metadata": {},
   "outputs": [
    {
     "name": "stdout",
     "output_type": "stream",
     "text": [
      "author_id         64\n",
      "skin_tone     170539\n",
      "eye_color     209628\n",
      "skin_type     111557\n",
      "hair_color    226768\n",
      "dtype: int64\n",
      "At least 20.72% of rows have missing value\n",
      "(1094411, 5)\n"
     ]
    }
   ],
   "source": [
    "print(df_users.isna().sum())\n",
    "max_na = max(df_users.isna().sum())\n",
    "print(f\"At least {max_na*100/len(df_users):.2f}% of rows have missing value\")\n",
    "print(df_users.shape)"
   ]
  },
  {
   "cell_type": "code",
   "execution_count": 15,
   "id": "3eeb0cfd-d08b-4013-82fc-45757309a4d2",
   "metadata": {},
   "outputs": [],
   "source": [
    "''' Create a dictionary for each of the columns with missing values using the author_id as the key \n",
    "    and the first value for the column in question (e.g,. skin_tone) as the value in the dictionary.\n",
    "    Then map the values from the dictionary into the rows missing those values.\n",
    "'''\n",
    "\n",
    "skin_tone_dict = df_users.dropna(subset=['skin_tone']).groupby('author_id')['skin_tone'].first().to_dict()\n",
    "df_users['skin_tone'] = df_users['author_id'].map(skin_tone_dict).fillna(df_users['skin_tone'])\n",
    "\n",
    "eye_color_dict = df_users.dropna(subset=['eye_color']).groupby('author_id')['eye_color'].first().to_dict()\n",
    "df_users['eye_color'] = df_users['author_id'].map(skin_tone_dict).fillna(df_users['eye_color'])\n",
    "\n",
    "skin_type_dict = df_users.dropna(subset=['skin_type']).groupby('author_id')['skin_type'].first().to_dict()\n",
    "df_users['skin_type'] = df_users['author_id'].map(skin_tone_dict).fillna(df_users['skin_type'])\n",
    "\n",
    "hair_color_dict = df_users.dropna(subset=['hair_color']).groupby('author_id')['hair_color'].first().to_dict()\n",
    "df_users['hair_color'] = df_users['author_id'].map(skin_tone_dict).fillna(df_users['hair_color'])"
   ]
  },
  {
   "cell_type": "markdown",
   "id": "d9f3aef8-38b6-4f05-a781-bf5cc64105e5",
   "metadata": {},
   "source": [
    "I cut the percentage of rows with missing values almost in half.  Given the data set contains over one million users, I am just going to drop the rows that contain a missing value.  This left 969,071 rows in the dataset.  "
   ]
  },
  {
   "cell_type": "code",
   "execution_count": 16,
   "id": "5d50be34-c99c-4ab0-b849-e469965bb280",
   "metadata": {},
   "outputs": [
    {
     "name": "stdout",
     "output_type": "stream",
     "text": [
      "author_id         64\n",
      "skin_tone     116184\n",
      "eye_color     108376\n",
      "skin_type      76126\n",
      "hair_color    111621\n",
      "dtype: int64\n",
      "At least 10.62% of rows have missing value\n",
      "(1094411, 5)\n"
     ]
    }
   ],
   "source": [
    "print(df_users.isna().sum())\n",
    "max_na = max(df_users.isna().sum())\n",
    "print(f\"At least {max_na*100/len(df_users):.2f}% of rows have missing value\")\n",
    "print(df_users.shape)"
   ]
  },
  {
   "cell_type": "code",
   "execution_count": 17,
   "id": "9672ac6a-9790-427d-ae1c-b9abfee1038e",
   "metadata": {},
   "outputs": [
    {
     "name": "stdout",
     "output_type": "stream",
     "text": [
      "author_id     0\n",
      "skin_tone     0\n",
      "eye_color     0\n",
      "skin_type     0\n",
      "hair_color    0\n",
      "dtype: int64\n",
      "(978178, 5)\n"
     ]
    }
   ],
   "source": [
    "df_users = df_users.dropna()\n",
    "print(df_users.isna().sum())\n",
    "print(df_users.shape)"
   ]
  },
  {
   "cell_type": "markdown",
   "id": "ed508af7-d1a8-4872-a93e-9f60d7dc327b",
   "metadata": {},
   "source": [
    "The users dataframe contains duplicate rows now that I populated the missing values, so I removed the duplicates.  This left 482,097 unique users with no missing attributes."
   ]
  },
  {
   "cell_type": "code",
   "execution_count": 18,
   "id": "f6456068-ce2b-4632-b459-6a18ce76627d",
   "metadata": {},
   "outputs": [
    {
     "name": "stdout",
     "output_type": "stream",
     "text": [
      "(419679, 5)\n"
     ]
    }
   ],
   "source": [
    "df_users = df_users.drop_duplicates()\n",
    "print(df_users.shape)"
   ]
  },
  {
   "cell_type": "markdown",
   "id": "b7206932-fece-428f-a8de-0bbca809fd43",
   "metadata": {},
   "source": [
    "#### Products"
   ]
  },
  {
   "cell_type": "markdown",
   "id": "8fdffc54-3efd-4f71-b8dc-5157e2a1c50b",
   "metadata": {},
   "source": [
    "There are no missing values in the products dataset, which contains 8396 records."
   ]
  },
  {
   "cell_type": "code",
   "execution_count": 19,
   "id": "0b47af2b-d954-4a31-8d32-30072321a435",
   "metadata": {},
   "outputs": [
    {
     "name": "stdout",
     "output_type": "stream",
     "text": [
      "product_id           0\n",
      "product_name         0\n",
      "brand_name           0\n",
      "price_usd            0\n",
      "limited_edition      0\n",
      "online_only          0\n",
      "sephora_exclusive    0\n",
      "primary_category     0\n",
      "dtype: int64\n",
      "0.00% of rows have missing value\n",
      "(8494, 8)\n"
     ]
    }
   ],
   "source": [
    "print(df_products.isna().sum())\n",
    "max_na = max(df_products.isna().sum())\n",
    "print(f\"{max_na*100/len(df_products):.2f}% of rows have missing value\")\n",
    "print(df_products.shape)"
   ]
  },
  {
   "cell_type": "markdown",
   "id": "08113e7b-1313-4a3a-bd6d-3bab07880f1b",
   "metadata": {},
   "source": [
    "## TODO EDA"
   ]
  },
  {
   "cell_type": "markdown",
   "id": "f38b6ff1-969d-4acd-9c27-428fa67d8054",
   "metadata": {},
   "source": [
    "Exploratory Data Analysis (EDA) - Inspect, Visualize, and Clean the Data (26 points)\n",
    "\n",
    " Go through the initial data cleaning and EDA and judge whether you need to collect more or different data. \n",
    "\n",
    "EDA Procedure Example:\n",
    "\n",
    "Describe the factors or components that make up the dataset (The \"factors\" here are called \"features\" in the machine learning term. These factors are often columns in the tabulated data). For each factor, use a box-plot, scatter plot, histogram, etc., to describe the data distribution as appropriate.\n",
    "\n",
    "Describe correlations between different factors of the dataset and justify your assumption that they are correlated or not correlated. You may use numeric or qualitative/graphical analysis for this step.\n",
    "\n",
    "Determine if any data needs to be transformed. For example, if you're planning on using an SVM method for prediction, you may need to normalize or scale the data if there is a considerable difference in the range of the data.\n",
    "\n",
    "Using your hypothesis, indicate if it's likely that you should transform data, such as using a log transform or other transformation of the dataset.\n",
    "\n",
    "You should determine if your data has outliers or needs to be cleaned in any way. Are there missing data values for specific factors? How will you handle the data cleaning? Will you discard, interpolate or otherwise substitute data values?\n",
    "\n",
    "If you believe that specific factors will be more important than others in your analysis, you should mention which and why. You will use this to confirm your intuitions in your final write-up."
   ]
  },
  {
   "cell_type": "markdown",
   "id": "a416dc9a-8162-47ba-8df2-c9d0b162dc97",
   "metadata": {},
   "source": [
    "### Distribution of Data"
   ]
  },
  {
   "cell_type": "markdown",
   "id": "86df8296-b545-4f80-bfc5-7d1946ccc83f",
   "metadata": {},
   "source": [
    "#### Ratings"
   ]
  },
  {
   "cell_type": "markdown",
   "id": "e0e341ec-148c-4a5a-a80d-ba2563e710c7",
   "metadata": {},
   "source": [
    "The ratings are on a 1-5 scale and contains a majority of 5 ratings.  "
   ]
  },
  {
   "cell_type": "code",
   "execution_count": 20,
   "id": "ce53c1bc-f588-40c8-b5e9-9f905ac51481",
   "metadata": {},
   "outputs": [
    {
     "data": {
      "text/plain": [
       "<Axes: xlabel='rating', ylabel='Percent'>"
      ]
     },
     "execution_count": 20,
     "metadata": {},
     "output_type": "execute_result"
    },
    {
     "data": {
      "image/png": "[encoded data removed]",
      "text/plain": [
       "<Figure size 640x480 with 1 Axes>"
      ]
     },
     "metadata": {},
     "output_type": "display_data"
    }
   ],
   "source": [
    "sns.histplot(data=df_ratings, x=\"rating\", stat=\"percent\")"
   ]
  },
  {
   "cell_type": "markdown",
   "id": "2eeffc94-8bc0-476d-867e-8bb456aa70dd",
   "metadata": {},
   "source": [
    "#### Users"
   ]
  },
  {
   "cell_type": "markdown",
   "id": "352277f8-095d-45a7-a859-3969e0afd494",
   "metadata": {},
   "source": []
  },
  {
   "cell_type": "code",
   "execution_count": 55,
   "id": "bc9d6202-8e7d-42f2-adfd-4cc62c8f7c5a",
   "metadata": {},
   "outputs": [
    {
     "data": {
      "text/plain": [
       "<Axes: xlabel='hair_color', ylabel='Percent'>"
      ]
     },
     "execution_count": 55,
     "metadata": {},
     "output_type": "execute_result"
    },
    {
     "data": {
      "image/png": "[encoded data removed]",
      "text/plain": [
       "<Figure size 1800x1000 with 4 Axes>"
      ]
     },
     "metadata": {},
     "output_type": "display_data"
    }
   ],
   "source": [
    "fig, axes = plt.subplots(2, 2, figsize=(18, 10))\n",
    "fig.suptitle('Frequency Distribution for each Variable')\n",
    "axes[0,0].tick_params(axis='x', labelrotation=45)\n",
    "axes[0,1].tick_params(axis='x', labelrotation=45)\n",
    "axes[1,0].tick_params(axis='x', labelrotation=45)\n",
    "axes[1,1].tick_params(axis='x', labelrotation=45)\n",
    "\n",
    "sns.histplot(ax=axes[0, 0], data=df_users, x='skin_tone', stat=\"percent\")\n",
    "sns.histplot(ax=axes[0, 1], data=df_users, x='eye_color', stat=\"percent\")\n",
    "sns.histplot(ax=axes[1, 0], data=df_users, x='skin_type', stat=\"percent\")\n",
    "sns.histplot(ax=axes[1, 1], data=df_users, x='hair_color', stat=\"percent\")"
   ]
  },
  {
   "cell_type": "markdown",
   "id": "f0cbfc65-9be2-4508-b5fd-1988a36c9f4e",
   "metadata": {},
   "source": [
    "#### Products"
   ]
  },
  {
   "cell_type": "markdown",
   "id": "16b1a48d-0fb4-47d0-bf25-c15cd1e9a774",
   "metadata": {},
   "source": [
    "The binary factors (limited edition, online only, and sephora exclusive) have values of 0 and 1 and are heavily skewed toward the 0 (not) value.\n"
   ]
  },
  {
   "cell_type": "code",
   "execution_count": 21,
   "id": "4aedc9e6-28d0-4b7d-aa47-fe97058470c7",
   "metadata": {},
   "outputs": [
    {
     "data": {
      "text/plain": [
       "<Axes: xlabel='sephora_exclusive', ylabel='Percent'>"
      ]
     },
     "execution_count": 21,
     "metadata": {},
     "output_type": "execute_result"
    },
    {
     "data": {
      "image/png": "[encoded data removed]",
      "text/plain": [
       "<Figure size 1800x1000 with 4 Axes>"
      ]
     },
     "metadata": {},
     "output_type": "display_data"
    }
   ],
   "source": [
    "fig, axes = plt.subplots(2, 2, figsize=(18, 10))\n",
    "fig.suptitle('Frequency Distribution for each Variable')\n",
    "\n",
    "sns.histplot(ax=axes[0, 0], data=df_products, x='price_usd', kde=True, stat=\"percent\")\n",
    "sns.histplot(ax=axes[0, 1], data=df_products, x='limited_edition', stat=\"percent\")\n",
    "sns.histplot(ax=axes[1, 0], data=df_products, x='online_only', stat=\"percent\")\n",
    "sns.histplot(ax=axes[1, 1], data=df_products, x='sephora_exclusive', stat=\"percent\")"
   ]
  },
  {
   "cell_type": "markdown",
   "id": "6b1fe4ff-cdef-4fc1-b2b7-c65a68806383",
   "metadata": {},
   "source": [
    "##### Outliers in Price"
   ]
  },
  {
   "cell_type": "markdown",
   "id": "c0e91742-532b-43c6-9575-0735952c3926",
   "metadata": {},
   "source": [
    "Price has some significant outliers given the third quartile at \\\\$58 and a max value of \\\\$1900.  Removing outliers outside of 4 standard deviations will eliminate the significant outliers and leave 8113 rows in the dataset that follow a roughly normal distribution with a right skew."
   ]
  },
  {
   "cell_type": "code",
   "execution_count": 22,
   "id": "6ff25462-0c74-4290-b35e-93bd7627b70a",
   "metadata": {},
   "outputs": [
    {
     "data": {
      "text/plain": [
       "<Axes: xlabel='price_usd'>"
      ]
     },
     "execution_count": 22,
     "metadata": {},
     "output_type": "execute_result"
    },
    {
     "data": {
      "image/png": "[encoded data removed]",
      "text/plain": [
       "<Figure size 640x480 with 1 Axes>"
      ]
     },
     "metadata": {},
     "output_type": "display_data"
    }
   ],
   "source": [
    "sns.violinplot(data=df_products, x='price_usd')"
   ]
  },
  {
   "cell_type": "code",
   "execution_count": 23,
   "id": "571bc581-d781-4c17-ba47-5bc14432e545",
   "metadata": {},
   "outputs": [
    {
     "data": {
      "text/plain": [
       "count    8494.000000\n",
       "mean       51.655595\n",
       "std        53.669234\n",
       "min         3.000000\n",
       "25%        25.000000\n",
       "50%        35.000000\n",
       "75%        58.000000\n",
       "max      1900.000000\n",
       "Name: price_usd, dtype: float64"
      ]
     },
     "execution_count": 23,
     "metadata": {},
     "output_type": "execute_result"
    }
   ],
   "source": [
    "df_products['price_usd'].describe()"
   ]
  },
  {
   "cell_type": "code",
   "execution_count": 24,
   "id": "831aea13-dae5-4aae-97a6-bd87a9703822",
   "metadata": {},
   "outputs": [
    {
     "name": "stdout",
     "output_type": "stream",
     "text": [
      "Outliers outside 3 standard deviations: 163 (1.92% of dataset)\n",
      "Outliers outside 4 standard deviations: 98 (1.15% of dataset)\n",
      "Outliers outside 5 standard deviations: 37 (0.44% of dataset)\n",
      "Outliers outside 6 standard deviations: 31 (0.36% of dataset)\n"
     ]
    }
   ],
   "source": [
    "total = len(df_products['price_usd'])\n",
    "z_scores = np.abs((df_products['price_usd'] - df_products['price_usd'].mean()) / df_products['price_usd'].std())\n",
    "\n",
    "for i in range(3,7):\n",
    "    count = len(df_products['price_usd'][z_scores >  i])\n",
    "    print(f\"Outliers outside {i} standard deviations: {count} ({count*100/total:.2f}% of dataset)\")\n"
   ]
  },
  {
   "cell_type": "code",
   "execution_count": 25,
   "id": "b470575b-765e-412b-97cd-88b18beea812",
   "metadata": {},
   "outputs": [
    {
     "data": {
      "text/plain": [
       "count    8396.000000\n",
       "mean       48.209578\n",
       "std        39.456292\n",
       "min         3.000000\n",
       "25%        25.000000\n",
       "50%        35.000000\n",
       "75%        58.000000\n",
       "max       265.000000\n",
       "Name: price_usd, dtype: float64"
      ]
     },
     "execution_count": 25,
     "metadata": {},
     "output_type": "execute_result"
    }
   ],
   "source": [
    "#Filter out rows with prices outside of 4 standard deviations from the mean\n",
    "df_products = df_products[z_scores <= 4]\n",
    "df_products['price_usd'].describe()"
   ]
  },
  {
   "cell_type": "code",
   "execution_count": 26,
   "id": "5f3e9b2e-0197-4f1b-828e-92f42bfbb02b",
   "metadata": {},
   "outputs": [
    {
     "data": {
      "text/plain": [
       "<Axes: xlabel='price_usd', ylabel='Percent'>"
      ]
     },
     "execution_count": 26,
     "metadata": {},
     "output_type": "execute_result"
    },
    {
     "data": {
      "image/png": "[encoded data removed]",
      "text/plain": [
       "<Figure size 640x480 with 1 Axes>"
      ]
     },
     "metadata": {},
     "output_type": "display_data"
    }
   ],
   "source": [
    "sns.histplot(data=df_products, x=\"price_usd\", kde=True, stat=\"percent\")"
   ]
  },
  {
   "cell_type": "markdown",
   "id": "757784f4-c12f-4ceb-b526-651c7a9c9d44",
   "metadata": {},
   "source": [
    "### Correlation Analysis"
   ]
  },
  {
   "cell_type": "markdown",
   "id": "67a549b0-3b9b-4c26-97da-1dedeeda0640",
   "metadata": {},
   "source": [
    "Correlation analysis of the numerical columns shows little to no correlation between the factors.  The strongest correlation is between the price and Sephora exclusive factors at a -0.14, which is still a weak correlation."
   ]
  },
  {
   "cell_type": "code",
   "execution_count": 27,
   "id": "a728ba06-5454-43c2-b5da-cb9f80deb939",
   "metadata": {},
   "outputs": [],
   "source": [
    "df_corr = df_products[['price_usd', 'limited_edition', 'online_only', 'sephora_exclusive']]"
   ]
  },
  {
   "cell_type": "code",
   "execution_count": 28,
   "id": "fb8dcfdb-4f65-4985-ad6e-99f364aa512e",
   "metadata": {},
   "outputs": [
    {
     "data": {
      "text/html": [
       "<div>\n",
       "<style scoped>\n",
       "    .dataframe tbody tr th:only-of-type {\n",
       "        vertical-align: middle;\n",
       "    }\n",
       "\n",
       "    .dataframe tbody tr th {\n",
       "        vertical-align: top;\n",
       "    }\n",
       "\n",
       "    .dataframe thead th {\n",
       "        text-align: right;\n",
       "    }\n",
       "</style>\n",
       "<table border=\"1\" class=\"dataframe\">\n",
       "  <thead>\n",
       "    <tr style=\"text-align: right;\">\n",
       "      <th></th>\n",
       "      <th>price_usd</th>\n",
       "      <th>limited_edition</th>\n",
       "      <th>online_only</th>\n",
       "      <th>sephora_exclusive</th>\n",
       "    </tr>\n",
       "  </thead>\n",
       "  <tbody>\n",
       "    <tr>\n",
       "      <th>price_usd</th>\n",
       "      <td>1.000000</td>\n",
       "      <td>0.055505</td>\n",
       "      <td>0.084031</td>\n",
       "      <td>-0.163157</td>\n",
       "    </tr>\n",
       "    <tr>\n",
       "      <th>limited_edition</th>\n",
       "      <td>0.055505</td>\n",
       "      <td>1.000000</td>\n",
       "      <td>0.060368</td>\n",
       "      <td>0.065669</td>\n",
       "    </tr>\n",
       "    <tr>\n",
       "      <th>online_only</th>\n",
       "      <td>0.084031</td>\n",
       "      <td>0.060368</td>\n",
       "      <td>1.000000</td>\n",
       "      <td>-0.101281</td>\n",
       "    </tr>\n",
       "    <tr>\n",
       "      <th>sephora_exclusive</th>\n",
       "      <td>-0.163157</td>\n",
       "      <td>0.065669</td>\n",
       "      <td>-0.101281</td>\n",
       "      <td>1.000000</td>\n",
       "    </tr>\n",
       "  </tbody>\n",
       "</table>\n",
       "</div>"
      ],
      "text/plain": [
       "                   price_usd  limited_edition  online_only  sephora_exclusive\n",
       "price_usd           1.000000         0.055505     0.084031          -0.163157\n",
       "limited_edition     0.055505         1.000000     0.060368           0.065669\n",
       "online_only         0.084031         0.060368     1.000000          -0.101281\n",
       "sephora_exclusive  -0.163157         0.065669    -0.101281           1.000000"
      ]
     },
     "execution_count": 28,
     "metadata": {},
     "output_type": "execute_result"
    }
   ],
   "source": [
    "df_corr.corr()"
   ]
  },
  {
   "cell_type": "code",
   "execution_count": 29,
   "id": "bfd56e97-eca5-4023-87e8-ca184043af5f",
   "metadata": {},
   "outputs": [
    {
     "data": {
      "image/png": "[encoded data removed]",
      "text/plain": [
       "<Figure size 700x400 with 2 Axes>"
      ]
     },
     "metadata": {},
     "output_type": "display_data"
    }
   ],
   "source": [
    "fig, ax = plt.subplots(figsize=(7, 4))  \n",
    "#Plot a heatmap using correlation matrix\n",
    "sns.heatmap(df_corr.corr(), annot=True, fmt=\".2f\", linewidth=.1, cmap=\"RdBu_r\", ax=ax)\n",
    "plt.show()"
   ]
  },
  {
   "cell_type": "markdown",
   "id": "f8f9c84f-d782-47d0-bc58-7771f0c5b15a",
   "metadata": {},
   "source": [
    "### Sync up Rating, User, and Product Datasets"
   ]
  },
  {
   "cell_type": "markdown",
   "id": "b0fd19de-a99b-42ca-b601-aac43a5e58d3",
   "metadata": {},
   "source": [
    "I removed a number of rows from the user and product datasets, so I need to ensure that any rows remaining in the rating dataset have author_id and product_id values that exist in the user and product datasets, respectively."
   ]
  },
  {
   "cell_type": "code",
   "execution_count": 30,
   "id": "9abeb34f-d25f-4853-81f9-9e6d466cd362",
   "metadata": {},
   "outputs": [],
   "source": [
    "df_ratings = df_ratings[df_ratings['author_id'].isin(df_users['author_id']) & df_ratings['product_id'].isin(df_products['product_id'])]"
   ]
  },
  {
   "cell_type": "markdown",
   "id": "ab2cbdfe-20c1-43ef-94cd-bc50d87669d0",
   "metadata": {},
   "source": [
    "## Modeling"
   ]
  },
  {
   "cell_type": "markdown",
   "id": "ef38fceb-5764-454f-9619-70ba07617b8c",
   "metadata": {},
   "source": [
    "I first split the rating data into a training and test set.  I filtered the test set to ensure that the users and products were in the training set, which left me with   I then create a sparse matrices to hold the ratings for all users and products. "
   ]
  },
  {
   "cell_type": "code",
   "execution_count": 31,
   "id": "245c6473-383a-46d9-8bb2-9668d693284c",
   "metadata": {},
   "outputs": [
    {
     "data": {
      "text/plain": [
       "(778457, 3)"
      ]
     },
     "execution_count": 31,
     "metadata": {},
     "output_type": "execute_result"
    }
   ],
   "source": [
    "x_train, x_test = train_test_split(df_ratings, test_size=.2, random_state=42)\n",
    "x_train.shape"
   ]
  },
  {
   "cell_type": "code",
   "execution_count": 32,
   "id": "714c0ed8-3f9c-4607-98b7-3e729cbf2d24",
   "metadata": {},
   "outputs": [
    {
     "data": {
      "text/plain": [
       "(194615, 3)"
      ]
     },
     "execution_count": 32,
     "metadata": {},
     "output_type": "execute_result"
    }
   ],
   "source": [
    "x_test.shape"
   ]
  },
  {
   "cell_type": "code",
   "execution_count": 33,
   "id": "358c37d2-5a62-4edb-bea2-71eb67005ade",
   "metadata": {},
   "outputs": [
    {
     "data": {
      "text/plain": [
       "(140664, 3)"
      ]
     },
     "execution_count": 33,
     "metadata": {},
     "output_type": "execute_result"
    }
   ],
   "source": [
    "x_test = x_test[x_test['author_id'].isin(x_train['author_id'])]\n",
    "x_test.shape"
   ]
  },
  {
   "cell_type": "code",
   "execution_count": 34,
   "id": "80853799-ac26-4428-ba0f-a70720448be2",
   "metadata": {},
   "outputs": [
    {
     "data": {
      "text/plain": [
       "(140659, 3)"
      ]
     },
     "execution_count": 34,
     "metadata": {},
     "output_type": "execute_result"
    }
   ],
   "source": [
    "x_test = x_test[x_test['product_id'].isin(x_train['product_id'])]\n",
    "x_test.shape"
   ]
  },
  {
   "cell_type": "code",
   "execution_count": 35,
   "id": "1d1cf0fe-7d2d-48e6-98b7-7000543b49c8",
   "metadata": {},
   "outputs": [
    {
     "data": {
      "text/html": [
       "<div>\n",
       "<style scoped>\n",
       "    .dataframe tbody tr th:only-of-type {\n",
       "        vertical-align: middle;\n",
       "    }\n",
       "\n",
       "    .dataframe tbody tr th {\n",
       "        vertical-align: top;\n",
       "    }\n",
       "\n",
       "    .dataframe thead th {\n",
       "        text-align: right;\n",
       "    }\n",
       "</style>\n",
       "<table border=\"1\" class=\"dataframe\">\n",
       "  <thead>\n",
       "    <tr style=\"text-align: right;\">\n",
       "      <th></th>\n",
       "      <th>author_id</th>\n",
       "      <th>product_id</th>\n",
       "      <th>rating</th>\n",
       "    </tr>\n",
       "  </thead>\n",
       "  <tbody>\n",
       "    <tr>\n",
       "      <th>2</th>\n",
       "      <td>5.061282e+09</td>\n",
       "      <td>P420652</td>\n",
       "      <td>5</td>\n",
       "    </tr>\n",
       "    <tr>\n",
       "      <th>3</th>\n",
       "      <td>6.083039e+09</td>\n",
       "      <td>P420652</td>\n",
       "      <td>5</td>\n",
       "    </tr>\n",
       "    <tr>\n",
       "      <th>4</th>\n",
       "      <td>4.705667e+10</td>\n",
       "      <td>P420652</td>\n",
       "      <td>5</td>\n",
       "    </tr>\n",
       "    <tr>\n",
       "      <th>5</th>\n",
       "      <td>4.280257e+10</td>\n",
       "      <td>P420652</td>\n",
       "      <td>4</td>\n",
       "    </tr>\n",
       "    <tr>\n",
       "      <th>6</th>\n",
       "      <td>6.941884e+09</td>\n",
       "      <td>P420652</td>\n",
       "      <td>2</td>\n",
       "    </tr>\n",
       "  </tbody>\n",
       "</table>\n",
       "</div>"
      ],
      "text/plain": [
       "      author_id product_id  rating\n",
       "2  5.061282e+09    P420652       5\n",
       "3  6.083039e+09    P420652       5\n",
       "4  4.705667e+10    P420652       5\n",
       "5  4.280257e+10    P420652       4\n",
       "6  6.941884e+09    P420652       2"
      ]
     },
     "execution_count": 35,
     "metadata": {},
     "output_type": "execute_result"
    }
   ],
   "source": [
    "df_ratings.head()"
   ]
  },
  {
   "cell_type": "code",
   "execution_count": 36,
   "id": "ddfb2cd7-e20b-4f4e-a3ef-f54ac57b765d",
   "metadata": {},
   "outputs": [],
   "source": [
    "user_count = len(df_ratings['author_id'].unique())\n",
    "prod_count = len(df_ratings['product_id'].unique())\n",
    "\n",
    "# Map Ids to indices\n",
    "user_id_to_idx = dict(zip(np.unique(df_ratings[\"author_id\"]), list(range(user_count))))\n",
    "prod_id_to_idx = dict(zip(np.unique(df_ratings[\"product_id\"]), list(range(prod_count))))\n",
    "\n",
    "# Map indices to IDs\n",
    "prod_idx_to_id = dict(zip(list(range(prod_count)), np.unique(df_ratings[\"product_id\"])))\n",
    "\n",
    "user_index = [user_id_to_idx[i] for i in x_train['author_id']]\n",
    "prod_index = [prod_id_to_idx[i] for i in x_train['product_id']]\n",
    "\n",
    "rating_matrix_csr = csr_matrix((x_train[\"rating\"], (prod_index, user_index)), shape=(prod_count, user_count))\n",
    "rating_matrix_coo = np.array(coo_matrix((list(x_train['rating']), (user_index, prod_index)), shape=(user_count, prod_count)).toarray())\n"
   ]
  },
  {
   "cell_type": "markdown",
   "id": "f519a256-4c5f-458f-9846-9cfe15b539c2",
   "metadata": {},
   "source": [
    "### TODO Predict Using Content or Collaborative???"
   ]
  },
  {
   "cell_type": "markdown",
   "id": "c6a8e05f-8a31-4611-8ee7-0dbc3dd4a730",
   "metadata": {},
   "source": [
    "TODO"
   ]
  },
  {
   "cell_type": "code",
   "execution_count": 37,
   "id": "c5345ee4-9440-4b99-b219-8241691f7c00",
   "metadata": {},
   "outputs": [],
   "source": [
    "def predict_from_sim(userID, prodID, sim_matrix, rat_matrix):\n",
    "    #1. Get index of the provided user id\n",
    "    index_userID = user_id_to_idx[userID]\n",
    "    \n",
    "    #2. Get all the user ratings for the user using index_userID\n",
    "    ratings_index_userID = rat_matrix[index_userID]\n",
    "            \n",
    "    #3. Get index of the provided product id\n",
    "    index_prodID = prod_id_to_idx[prodID]\n",
    "            \n",
    "    #4. Get all the similarity scores using index_prodID\n",
    "    prod_sims = sim_matrix[index_prodID] \n",
    "            \n",
    "    #5. Take the **averaged** dot product.        \n",
    "    valid_ratings = (ratings_index_userID != 0)\n",
    "    \n",
    "    num = np.dot(ratings_index_userID, prod_sims)\n",
    "    den = np.dot(prod_sims, valid_ratings)\n",
    "    return num / den \n",
    "    \n",
    "def predict(sim_matrix, rat_matrix):\n",
    "    test_preds = []\n",
    "    for i in range(len(x_test)):\n",
    "        userID = x_test.iloc[i]['author_id']\n",
    "        prodID = x_test.iloc[i]['product_id']\n",
    "        test_preds.append(predict_from_sim(userID, prodID, sim_matrix, rat_matrix))\n",
    "    return np.array(test_preds)\n",
    "              \n",
    "def cossim(xr):    \n",
    "    #Algorithm:\n",
    "    #1. Compute **averaged** product ratings for all users (prod_ratings_allUsers)\n",
    "    #Calcs mean of each row\n",
    "    prod_ratings_allUsers = xr.sum(axis=1) / np.count_nonzero(xr, axis=1)\n",
    "    \n",
    "    #2. Create a sparse matrix for operating cosine on its values:\n",
    "    prod_ratings_array = np.repeat(np.expand_dims(prod_ratings_allUsers, axis=1), xr.shape[1], axis=1)\n",
    "\n",
    "    #3. Take care of all the zero ratings (missing value/itentionally we don't know):\n",
    "    prod_ratings_array_adjusted = xr + (xr==0)*prod_ratings_array - prod_ratings_array\n",
    "    \n",
    "    #4. Average all the ratings: divide by its magnitude!\n",
    "    rating_avg = prod_ratings_array_adjusted/np.sqrt((prod_ratings_array_adjusted**2).sum(axis=0))\n",
    "   \n",
    "    #5. Put a Boundary check # 1: since dividing by magnitude may produce inf, zeros, etc. Set nans to 0.\n",
    "    rating_avg = np.nan_to_num(rating_avg, 0)\n",
    "    \n",
    "    #6. Perform an item-item cosine similarity using: np.dot(matrix.T, matrix)\n",
    "    similarity = np.dot(rating_avg.T, rating_avg)\n",
    "    \n",
    "    #7. Put a Boundary check # 2: Covariance/correlation values for np.dot([M.T, M]) matrix should have \n",
    "    #   diagonal set to 1. \n",
    "    np.fill_diagonal(similarity, 1) \n",
    "        \n",
    "    #8. Normalized Cosine Formula:\n",
    "    similarity = np.multiply(similarity, 0.5) + 0.5 \n",
    "    \n",
    "    return similarity\n",
    "\n",
    "def jacsim(Xr): \n",
    "    # Return a sim matrix by calculating item-item similarity for all pairs of items using Jaccard similarity\n",
    "    # Jaccard Similarity: J(A, B) = |A∩B| / |A∪B| \n",
    "    n = Xr.shape[1]\n",
    "    maxr = int(Xr.max())\n",
    "    \n",
    "    #This is only used for the non-transformed case\n",
    "    if maxr>1:\n",
    "        nz_inter = np.zeros((n,n)).astype(int)\n",
    "        for i in range(1, maxr+1):\n",
    "            csr = csr_matrix((Xr==i).astype(int))\n",
    "            nz_inter = nz_inter + np.array(csr.T.dot(csr).toarray()).astype(int)    \n",
    "    else:\n",
    "        # Convert Xr into a CSR format\n",
    "        csr0 = csr_matrix((Xr>0).astype(int))\n",
    "\n",
    "        # Take the dot product\n",
    "        nz_inter = np.array(csr0.T.dot(csr0).toarray()).astype(int)   \n",
    "    \n",
    "    # Formula JS:\n",
    "    A = (Xr>0).astype(bool)\n",
    "    rowsum = A.sum(axis=0)\n",
    "    rsumtile = np.repeat(rowsum.reshape((n,1)),n,axis=1)   \n",
    "    union = rsumtile.T + rsumtile - nz_inter\n",
    "    \n",
    "    # Perform the two boundary checks:-\n",
    "    #  - since dividing by magnitude may produce inf, zeros, etc. Set nans to 0.\n",
    "    #  - Covariance/correlation values for np.dot([M.T, M]) matrix should have \n",
    "    #    diagonal set to 1.\n",
    "\n",
    "    union = np.nan_to_num(union, 0)\n",
    "    intersection = np.nan_to_num(nz_inter, 0)\n",
    "    \n",
    "    similarity = np.divide(intersection, union, out=np.zeros_like(intersection, dtype=float), where=union!=0)\n",
    "    np.fill_diagonal(similarity, 1) \n",
    "    return similarity\n",
    "\n",
    "def rmse(yp):\n",
    "    yp[np.isnan(yp)]=3 #In case there is nan values in prediction, it will impute to 3.\n",
    "    yt=np.array(x_test['rating'])\n",
    "    return np.sqrt(((yt-yp)**2).mean())"
   ]
  },
  {
   "cell_type": "code",
   "execution_count": 38,
   "id": "fb8423ca-8359-4be7-a2fb-260bc0e1b069",
   "metadata": {},
   "outputs": [],
   "source": [
    "sim_matrix = cossim(rating_matrix_coo)"
   ]
  },
  {
   "cell_type": "code",
   "execution_count": 39,
   "id": "cf2198a0-7c4c-46db-8429-10e72af9ac14",
   "metadata": {},
   "outputs": [
    {
     "name": "stdout",
     "output_type": "stream",
     "text": [
      "1.0881795275262927\n"
     ]
    }
   ],
   "source": [
    "yp = predict(sim_matrix, rating_matrix_coo)\n",
    "print(rmse(yp))"
   ]
  },
  {
   "cell_type": "code",
   "execution_count": 40,
   "id": "f43e6e28-0f54-4563-b8d3-b5ec10ca1a99",
   "metadata": {},
   "outputs": [],
   "source": [
    "jacsim_matrix = jacsim(rating_matrix_coo)"
   ]
  },
  {
   "cell_type": "code",
   "execution_count": 41,
   "id": "6ab2a467-f5f9-412b-b076-8b917a2d4616",
   "metadata": {},
   "outputs": [
    {
     "name": "stdout",
     "output_type": "stream",
     "text": [
      "1.1191216782108373\n"
     ]
    }
   ],
   "source": [
    "yp = predict(jacsim_matrix, rating_matrix_coo)\n",
    "print(rmse(yp))"
   ]
  },
  {
   "cell_type": "markdown",
   "id": "226680b9-8a88-49f7-b114-e614aeaa51b9",
   "metadata": {},
   "source": [
    "### TODO Predict Using NMF"
   ]
  },
  {
   "cell_type": "markdown",
   "id": "acb040be-c8ab-4399-a2d4-19175790ca1d",
   "metadata": {},
   "source": [
    "TODO Non-Negative Matrix Factorization (NMF) "
   ]
  },
  {
   "cell_type": "code",
   "execution_count": 42,
   "id": "4d5df252-c6f5-4a1a-8dc9-19bc3a3a2903",
   "metadata": {},
   "outputs": [],
   "source": [
    "def predict(all_preds):\n",
    "    \"\"\"\n",
    "    Predict ratings in the test data. Returns predicted rating in a numpy array of size (# of rows in testdata,)\n",
    "    \"\"\"\n",
    "    test_preds = []\n",
    "    for i, row in x_test.iterrows():\n",
    "        index_userID = user_id_to_idx[row['author_id']] \n",
    "        index_prodID = prod_id_to_idx[row['product_id']] \n",
    "        rating = all_preds[index_prodID][index_userID]\n",
    "        test_preds.append(rating)\n",
    "    return np.array(test_preds)"
   ]
  },
  {
   "cell_type": "code",
   "execution_count": 43,
   "id": "87558a02-210c-445b-9d59-071f3133ee6a",
   "metadata": {},
   "outputs": [
    {
     "data": {
      "text/plain": [
       "4.328119372422528"
      ]
     },
     "execution_count": 43,
     "metadata": {},
     "output_type": "execute_result"
    }
   ],
   "source": [
    "model = NMF(n_components=5)\n",
    "W = model.fit_transform(rating_matrix_csr) \n",
    "H = model.components_\n",
    "pred_ratings = np.dot(W, H)\n",
    "\n",
    "y_pred = predict(pred_ratings)\n",
    "rmse(y_pred)"
   ]
  },
  {
   "cell_type": "markdown",
   "id": "0e8b3e4d-b1d7-456f-9092-650502272e89",
   "metadata": {},
   "source": [
    "### TODO: Recommendation System Using K-Nearest Neighbors"
   ]
  },
  {
   "cell_type": "markdown",
   "id": "7e85a3a4-390a-458a-8a2b-05c5309b2315",
   "metadata": {},
   "source": [
    "Now that I've implemented rating prediction, I wanted to enhance the solution by building a recommender system.  I usesd k-nearest neighbors to return the recommendations for a given user.  The recommendations are centered around the user's favorite (highest-rated) product."
   ]
  },
  {
   "cell_type": "code",
   "execution_count": 44,
   "id": "765dde0e-ce0c-4a81-b016-51e8310e1bbf",
   "metadata": {},
   "outputs": [],
   "source": [
    "def find_similar_products(target_prod_id, rating_matrix, k, metric='cosine'):\n",
    "    neighbor_ids = []\n",
    "    \n",
    "    product_to_match = prod_id_to_idx[target_prod_id]\n",
    "    prod_vector = rating_matrix[product_to_match]\n",
    "    k += 1  #Increase by one because the target product will be included by NearestNeighbors\n",
    "    \n",
    "    kNN = NearestNeighbors(n_neighbors=k, metric=metric)\n",
    "    kNN.fit(rating_matrix)\n",
    "    neighbor = kNN.kneighbors(prod_vector, return_distance=False)\n",
    "\n",
    "    for i in range(0, k):\n",
    "        n = neighbor.item(i)\n",
    "        neighbor_ids.append(prod_idx_to_id[n])\n",
    "\n",
    "    neighbor_ids.pop(0)  # Remove the target product from the final list\n",
    "    return neighbor_ids\n"
   ]
  },
  {
   "cell_type": "code",
   "execution_count": 45,
   "id": "03b2a2d5-e5ce-45b7-8897-47a96c5357bb",
   "metadata": {},
   "outputs": [],
   "source": [
    "def recommend_prods_for_user(user_id, rating_matrix, user_id_to_idx, prod_id_to_idx, prod_idx_to_id, metric, k=5):\n",
    "    df = df_ratings[df_ratings['author_id'] == user_id]\n",
    "\n",
    "    # Find the user's highest-rated product and k-nearest neighbors\n",
    "    fav_prod_id = df[df['rating'] == max(df['rating'])]['product_id'].iloc[0]\n",
    "    similar_ids = find_similar_products(fav_prod_id, rating_matrix, k, metric=metric)\n",
    "\n",
    "    # Map product IDs to product names\n",
    "    prod_names = dict(zip(df_products['product_id'], df_products['product_name']))\n",
    "\n",
    "    print(f\"Since you liked {prod_names[fav_prod_id]}, you might also like:\")\n",
    "\n",
    "    for i in similar_ids:\n",
    "        if i in prod_names:\n",
    "            print(f\"* {prod_names[i]}\")\n"
   ]
  },
  {
   "cell_type": "code",
   "execution_count": 46,
   "id": "8d06e159-eac0-4d81-b537-1d19b80f6156",
   "metadata": {},
   "outputs": [
    {
     "name": "stdout",
     "output_type": "stream",
     "text": [
      "Since you liked Greek Yoghurt Foaming Cream Cleanser, you might also like:\n",
      "* Extra Illuminating Moisture Balm\n",
      "* Greek Yoghurt Nourishing Probiotic Gel-Cream\n",
      "* POWER Recharging Night Pressed Serum\n",
      "* Pep-Start Eye Cream\n",
      "* Advanced Night Repair Synchronized Multi-Recovery Complex Duo\n"
     ]
    }
   ],
   "source": [
    "user_id = 6047267707  \n",
    "recommend_prods_for_user(user_id, rating_matrix_csr, user_id_to_idx, prod_id_to_idx, prod_idx_to_id, metric='cosine')"
   ]
  },
  {
   "cell_type": "code",
   "execution_count": 47,
   "id": "1488a147-777a-4e03-a875-7dd250e0692f",
   "metadata": {},
   "outputs": [
    {
     "name": "stdout",
     "output_type": "stream",
     "text": [
      "Since you liked Greek Yoghurt Foaming Cream Cleanser, you might also like:\n",
      "* ExfoliKate All Over Glow Kit\n",
      "* Big Break Soap Set\n",
      "* 3 Step Intro Kit Type II\n",
      "* Break from the Burnout Skin Wellness Set\n",
      "* Glow Facial Set\n"
     ]
    }
   ],
   "source": [
    "user_id = 6047267707  \n",
    "recommend_prods_for_user(user_id, rating_matrix_csr, user_id_to_idx, prod_id_to_idx, prod_idx_to_id, metric='euclidean')"
   ]
  },
  {
   "cell_type": "markdown",
   "id": "5e61cd00-e692-4c10-9f59-48b2ca183f7b",
   "metadata": {},
   "source": [
    "## Results and Analysis"
   ]
  },
  {
   "cell_type": "markdown",
   "id": "cd5db5e3-6cf9-46c9-aef5-f94679548a58",
   "metadata": {},
   "source": [
    "Perform Analysis Using Unsupervised Learning Models of your Choice, Present Discussion, and Conclusions (70 points)\n",
    "\n",
    "Model building and training may depend on their data type(s) and task type(s). Depending on your project, you may have one model or more. Generally, it is deemed a higher quality project if you compare multiple models and show your understanding of why specific models work better than the other or what limitations or cautions specific models may have. When using multiple models, at least one of them should be an unsupervised approach. \n",
    "\n",
    " For machine learning models, another recommendation is to show enough effort on the hyperparameter optimization.\n",
    "\n",
    " If your project involves making a web app (not required), you can include the demo."
   ]
  },
  {
   "cell_type": "markdown",
   "id": "dc00e574-5f6e-4fc9-bd27-6ec2ad1cceaf",
   "metadata": {},
   "source": [
    "## Model Comparison"
   ]
  },
  {
   "cell_type": "markdown",
   "id": "ddb21779-2d16-42f2-89be-4e3fb3fc5e52",
   "metadata": {},
   "source": [
    "### Improving Performance Through Hypertuning Parameters"
   ]
  },
  {
   "cell_type": "code",
   "execution_count": null,
   "id": "94c09a08-d291-44a8-ae48-f54780269439",
   "metadata": {},
   "outputs": [],
   "source": []
  },
  {
   "cell_type": "markdown",
   "id": "a4c193fb-2f1c-4283-82ef-2cd34126a7cd",
   "metadata": {},
   "source": [
    "## Discussion and Conclusion"
   ]
  },
  {
   "cell_type": "markdown",
   "id": "85968c5c-a506-400f-863c-16400b7da311",
   "metadata": {},
   "source": [
    "### Learnings and Takeaways"
   ]
  },
  {
   "cell_type": "markdown",
   "id": "c2f8960f-cd10-4d5f-879d-63625bbe9759",
   "metadata": {},
   "source": [
    "### Things that Did Not Go as Planned"
   ]
  },
  {
   "cell_type": "markdown",
   "id": "8a98d66e-e7c6-43f2-81a6-4dab04c23eab",
   "metadata": {},
   "source": [
    "TODO The NMF prediction did not perform as well as collaborative \n",
    "\n",
    "This could be due to the sparseness of the ratings in the training set (i.e., users did not rate all movies). Increasing the number of components or imputing missing values to make the matrix less sparse could improve the RMSE. Note that when imputing missing values, we would want to use something other than zero (e.g., use the user's average rating) because filling in missing values as zero falls outside of the \"valid\" ratings of 1-5."
   ]
  },
  {
   "cell_type": "markdown",
   "id": "e05d49d7-f951-4bbe-9dac-a5fea84c0921",
   "metadata": {},
   "source": [
    "### Ways to Improve"
   ]
  },
  {
   "cell_type": "markdown",
   "id": "cef73d13-3c3b-47fb-9af3-8cce0b037a79",
   "metadata": {},
   "source": [
    "## References"
   ]
  },
  {
   "cell_type": "markdown",
   "id": "8005b47b-a3a6-4274-b28b-894fa214c476",
   "metadata": {},
   "source": [
    "1. https://www.geeksforgeeks.org/recommendation-system-in-python/\n",
    "2. https://scikit-learn.org/stable/modules/neighbors.html\n"
   ]
  },
  {
   "cell_type": "code",
   "execution_count": null,
   "id": "3e2390f2-2565-42ed-8e4e-fc21a5f46dc0",
   "metadata": {},
   "outputs": [],
   "source": []
  }
 ],
 "metadata": {
  "kernelspec": {
   "display_name": "Python 3 (ipykernel)",
   "language": "python",
   "name": "python3"
  },
  "language_info": {
   "codemirror_mode": {
    "name": "ipython",
    "version": 3
   },
   "file_extension": ".py",
   "mimetype": "text/x-python",
   "name": "python",
   "nbconvert_exporter": "python",
   "pygments_lexer": "ipython3",
   "version": "3.12.1"
  }
 },
 "nbformat": 4,
 "nbformat_minor": 5
}
